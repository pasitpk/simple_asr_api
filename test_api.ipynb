{
 "cells": [
  {
   "cell_type": "code",
   "execution_count": 1,
   "id": "2150fb07",
   "metadata": {},
   "outputs": [],
   "source": [
    "import requests"
   ]
  },
  {
   "cell_type": "code",
   "execution_count": 49,
   "id": "e0d74a9f",
   "metadata": {},
   "outputs": [],
   "source": [
    "audio_file = 'khim_7_1_1_2_4.mp3'\n",
    "url = \"http://localhost:9898/transcribe/\""
   ]
  },
  {
   "cell_type": "code",
   "execution_count": 50,
   "id": "5db98b99",
   "metadata": {},
   "outputs": [
    {
     "name": "stdout",
     "output_type": "stream",
     "text": [
      "Predicted transcription:  rectum polyp Benign 1 มิลลิเมตร Type 3 \n"
     ]
    }
   ],
   "source": [
    "files = {\"file\": open(audio_file, \"rb\")}\n",
    "\n",
    "response = requests.post(url, files=files)\n",
    "\n",
    "if response.ok:\n",
    "    transcription = response.json()[\"text\"]\n",
    "    print(\"Predicted transcription:\", transcription)\n",
    "else:\n",
    "    print(\"Error:\", response.status_code, response.text)\n"
   ]
  },
  {
   "cell_type": "code",
   "execution_count": 51,
   "id": "6f2d6e4b",
   "metadata": {},
   "outputs": [
    {
     "data": {
      "text/plain": [
       "{'text': ' rectum polyp Benign 1 มิลลิเมตร Type 3 ',\n",
       " 'processing_times': {'read': 0.047844399999917187,\n",
       "  'convert_to_numpy': 0.0027180000000726068,\n",
       "  'transcribe': 0.4943512999999484},\n",
       " 'device': 'cuda:0'}"
      ]
     },
     "execution_count": 51,
     "metadata": {},
     "output_type": "execute_result"
    }
   ],
   "source": [
    "response.json()"
   ]
  },
  {
   "cell_type": "code",
   "execution_count": null,
   "id": "fb42fbd5",
   "metadata": {},
   "outputs": [],
   "source": []
  }
 ],
 "metadata": {
  "kernelspec": {
   "display_name": "Python 3 (ipykernel)",
   "language": "python",
   "name": "python3"
  },
  "language_info": {
   "codemirror_mode": {
    "name": "ipython",
    "version": 3
   },
   "file_extension": ".py",
   "mimetype": "text/x-python",
   "name": "python",
   "nbconvert_exporter": "python",
   "pygments_lexer": "ipython3",
   "version": "3.9.15"
  }
 },
 "nbformat": 4,
 "nbformat_minor": 5
}
